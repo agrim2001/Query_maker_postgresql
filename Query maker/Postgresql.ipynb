{
 "cells": [
  {
   "cell_type": "markdown",
   "id": "1e7d5842",
   "metadata": {},
   "source": [
    "# PostgreSQL"
   ]
  },
  {
   "cell_type": "code",
   "execution_count": 8,
   "id": "193db1da",
   "metadata": {},
   "outputs": [
    {
     "data": {
      "text/html": [
       "<script>\n",
       "code_show=true; \n",
       "function code_toggle() {\n",
       " if (code_show){\n",
       " $('div.input').hide();\n",
       " } else {\n",
       " $('div.input').show();\n",
       " }\n",
       " code_show = !code_show\n",
       "} \n",
       "$( document ).ready(code_toggle);\n",
       "</script>\n",
       "<form action=\"javascript:code_toggle()\"><input type=\"submit\" value=\"Click here to toggle on/off the raw code.\"></form>"
      ],
      "text/plain": [
       "<IPython.core.display.HTML object>"
      ]
     },
     "execution_count": 8,
     "metadata": {},
     "output_type": "execute_result"
    }
   ],
   "source": [
    "import ipywidgets\n",
    "from IPython.display import HTML\n",
    "\n",
    "HTML('''<script>\n",
    "code_show=true; \n",
    "function code_toggle() {\n",
    " if (code_show){\n",
    " $('div.input').hide();\n",
    " } else {\n",
    " $('div.input').show();\n",
    " }\n",
    " code_show = !code_show\n",
    "} \n",
    "$( document ).ready(code_toggle);\n",
    "</script>\n",
    "<form action=\"javascript:code_toggle()\"><input type=\"submit\" value=\"Click here to toggle on/off the raw code.\"></form>''')"
   ]
  },
  {
   "cell_type": "markdown",
   "id": "3a96fc18",
   "metadata": {},
   "source": [
    "## First to connect the python with psql database  you have to run this other wise no query work "
   ]
  },
  {
   "cell_type": "code",
   "execution_count": 23,
   "id": "d897c9b5",
   "metadata": {},
   "outputs": [
    {
     "name": "stdout",
     "output_type": "stream",
     "text": [
      "Enter your dbname postgres\n",
      "Enter your username postgres\n",
      "Enter your  password 123\n",
      "Enter your hostname localhost\n"
     ]
    }
   ],
   "source": [
    "import psycopg2 \n",
    "import pandas as pd\n",
    "import os\n",
    "import ipywidgets\n",
    "from ipywidgets import interact,IntSlider,interactive,widgets,interact_manual,HBox,fixed\n",
    "from IPython.display import HTML\n",
    "import warnings\n",
    "# for default connection with postgress\n",
    "# conn=psycopg2.connect(dbname=\"postgres\",user=\"postgres\",password=\"123\",host=\"localhost\")\n",
    "import psycopg2\n",
    "DB=input('Enter your dbname ')\n",
    "u=input('Enter your username ')\n",
    "p=input('Enter your  password ')\n",
    "h=input('Enter your hostname ')\n",
    "conn=psycopg2.connect(dbname=DB,user=u,password=p,host=h)"
   ]
  },
  {
   "cell_type": "markdown",
   "id": "19f6c517",
   "metadata": {},
   "source": [
    "# 1.To see the tables in data base\n",
    "\n",
    "# SELECT, FROM "
   ]
  },
  {
   "cell_type": "code",
   "execution_count": 24,
   "id": "83bfcb8d",
   "metadata": {},
   "outputs": [
    {
     "name": "stdout",
     "output_type": "stream",
     "text": [
      "Choose the table which one you want to see from data base\n"
     ]
    },
    {
     "data": {
      "application/vnd.jupyter.widget-view+json": {
       "model_id": "2da2aef985b8458fa2f47c96636d5ace",
       "version_major": 2,
       "version_minor": 0
      },
      "text/plain": [
       "interactive(children=(Dropdown(description='Select_Table', options=('customers', 'sales', 'vendors'), value='c…"
      ]
     },
     "metadata": {},
     "output_type": "display_data"
    },
    {
     "data": {
      "text/plain": [
       "<function __main__.table(Select_Table)>"
      ]
     },
     "execution_count": 24,
     "metadata": {},
     "output_type": "execute_result"
    }
   ],
   "source": [
    "def table(Select_Table):\n",
    "    import pandas.io.sql as s\n",
    "    print(\"-------------------------------------------------------------------------------------------\")\n",
    "    sql=(\"Select * from public.\"+str(Select_Table))\n",
    "    print(\"Your query :- \",sql)\n",
    "    print(\"-------------------------------------------------------------------------------------------\")\n",
    "    dat=s.read_sql_query(sql,conn)\n",
    "    print(dat)\n",
    "    print(\"-------------------------------------------------------------------------------------------\")\n",
    "    print(\"Length of whole table:- \",len(dat))\n",
    "import pandas.io.sql as d\n",
    "sql=(\"SELECT table_name FROM information_schema.tables WHERE table_schema = 'public' ORDER BY table_name;\")\n",
    "dat=d.read_sql_query(sql,conn,index_col='table_name')\n",
    "t=list(dat.index)\n",
    "print(\"Choose the table which one you want to see from data base\")\n",
    "widgets.interact(table,Select_Table=t)"
   ]
  },
  {
   "cell_type": "markdown",
   "id": "1c30f3a4",
   "metadata": {},
   "source": [
    "# DISTINCT , COUNT\n"
   ]
  },
  {
   "cell_type": "markdown",
   "id": "4cc533f0",
   "metadata": {},
   "source": [
    "### DISTINCT"
   ]
  },
  {
   "cell_type": "code",
   "execution_count": 3,
   "id": "6074b039",
   "metadata": {
    "scrolled": true
   },
   "outputs": [
    {
     "name": "stdout",
     "output_type": "stream",
     "text": [
      "Select the table \n"
     ]
    },
    {
     "data": {
      "application/vnd.jupyter.widget-view+json": {
       "model_id": "ccf5a159393146e9a54ca1dec2b2e288",
       "version_major": 2,
       "version_minor": 0
      },
      "text/plain": [
       "interactive(children=(Dropdown(description='Table', options=('customers', 'sales', 'vendors'), value='customer…"
      ]
     },
     "metadata": {},
     "output_type": "display_data"
    },
    {
     "data": {
      "text/plain": [
       "<function __main__.t1(Table)>"
      ]
     },
     "execution_count": 3,
     "metadata": {},
     "output_type": "execute_result"
    }
   ],
   "source": [
    "import pandas.io.sql as d\n",
    "sql=(\"SELECT table_name FROM information_schema.tables WHERE table_schema = 'public' ORDER BY table_name;\")\n",
    "dat=d.read_sql_query(sql,conn,index_col='table_name')\n",
    "t=list(dat.index)\n",
    "def Distinct(Columns,In_Table):\n",
    "    import pandas.io.sql as a\n",
    "    print(\"-------------------------------------------------------------------------------------------\")\n",
    "    sql=(\"Select distinct (\"+Columns+\") from public.\"+In_Table+\";\")\n",
    "    print(\"Your query :- \",sql)\n",
    "    print(\"-------------------------------------------------------------------------------------------\")\n",
    "    dat=a.read_sql_query(sql,conn)\n",
    "    print(dat)\n",
    "    print(\"-------------------------------------------------------------------------------------------\")\n",
    "def t1(Table):\n",
    "    import pandas.io.sql as a\n",
    "    print(\"-------------------------------------------------------------------------------------------\")\n",
    "    sql=(\"Select  * from public.\"+Table+\";\")\n",
    "    print(\"Your query :- \",sql)\n",
    "    print(\"-------------------------------------------------------------------------------------------\")\n",
    "    dat=a.read_sql_query(sql,conn)\n",
    "    print(dat)\n",
    "    print(\"-------------------------------------------------------------------------------------------\")\n",
    "    print(\"Select the column which one you want to use distinct\")\n",
    "    print(\"Please don't change the previous inputs\")\n",
    "    widgets.interact(Distinct,Columns=dat.columns,In_Table=Table)\n",
    "print(\"Select the table \")\n",
    "widgets.interact(t1,Table=t)"
   ]
  },
  {
   "cell_type": "markdown",
   "id": "844e88b6",
   "metadata": {},
   "source": [
    "### COUNT"
   ]
  },
  {
   "cell_type": "code",
   "execution_count": 25,
   "id": "0ed376d8",
   "metadata": {},
   "outputs": [
    {
     "name": "stdout",
     "output_type": "stream",
     "text": [
      "Select the table\n"
     ]
    },
    {
     "data": {
      "application/vnd.jupyter.widget-view+json": {
       "model_id": "f2e75378b1584d1db12bae5b9abf1618",
       "version_major": 2,
       "version_minor": 0
      },
      "text/plain": [
       "interactive(children=(Dropdown(description='Table', options=('customers', 'sales', 'vendors'), value='customer…"
      ]
     },
     "metadata": {},
     "output_type": "display_data"
    },
    {
     "data": {
      "text/plain": [
       "<function __main__.t2(Table)>"
      ]
     },
     "execution_count": 25,
     "metadata": {},
     "output_type": "execute_result"
    }
   ],
   "source": [
    "import pandas.io.sql as d\n",
    "sql=(\"SELECT table_name FROM information_schema.tables WHERE table_schema = 'public' ORDER BY table_name;\")\n",
    "dat=d.read_sql_query(sql,conn,index_col='table_name')\n",
    "t=list(dat.index)\n",
    "def c(Count_on,In_Table):\n",
    "    import pandas.io.sql as a\n",
    "    print(\"-------------------------------------------------------------------------------------------\")\n",
    "    sql=(\"Select  count(\"+Count_on+\") from public.\"+In_Table+\";\")\n",
    "    print(\"Your query :- \",sql)\n",
    "    print(\"-------------------------------------------------------------------------------------------\")\n",
    "    dat=a.read_sql_query(sql,conn)\n",
    "    print(dat)\n",
    "    print(\"-------------------------------------------------------------------------------------------\")\n",
    "def t2(Table):\n",
    "    import pandas.io.sql as a\n",
    "    print(\"-------------------------------------------------------------------------------------------\")\n",
    "    sql=(\"Select  * from public.\"+Table+\";\")\n",
    "    print(\"Your query :- \",sql)\n",
    "    print(\"-------------------------------------------------------------------------------------------\")\n",
    "    dat=a.read_sql_query(sql,conn)\n",
    "    print(dat)\n",
    "    print(\"-------------------------------------------------------------------------------------------\")\n",
    "    print(\"Select the column which one you want to use count\")\n",
    "    print(\"Please don't change the previous inputs\")\n",
    "    widgets.interact(c,Count_on=dat.columns,In_Table=Table)\n",
    "print(\"Select the table\")\n",
    "widgets.interact(t2,Table=t)"
   ]
  },
  {
   "cell_type": "markdown",
   "id": "0422b4f1",
   "metadata": {},
   "source": [
    "### COUNT WITH DISTINCT"
   ]
  },
  {
   "cell_type": "code",
   "execution_count": 26,
   "id": "1f25f9a2",
   "metadata": {},
   "outputs": [
    {
     "data": {
      "application/vnd.jupyter.widget-view+json": {
       "model_id": "a828e14814614a92b541857b51fbb047",
       "version_major": 2,
       "version_minor": 0
      },
      "text/plain": [
       "interactive(children=(Dropdown(description='Table', options=('customers', 'sales', 'vendors'), value='customer…"
      ]
     },
     "metadata": {},
     "output_type": "display_data"
    },
    {
     "data": {
      "text/plain": [
       "<function __main__.t3(Table)>"
      ]
     },
     "execution_count": 26,
     "metadata": {},
     "output_type": "execute_result"
    }
   ],
   "source": [
    "import pandas.io.sql as d\n",
    "sql=(\"SELECT table_name FROM information_schema.tables WHERE table_schema = 'public' ORDER BY table_name;\")\n",
    "dat=d.read_sql_query(sql,conn,index_col='table_name')\n",
    "t=list(dat.index)\n",
    "def Distinct_count(Dist_column,in_Table):\n",
    "    import pandas.io.sql as a\n",
    "    print(\"-------------------------------------------------------------------------------------------\")\n",
    "    sql=(\"Select  count (distinct(\"+Dist_column+\")) from public.\"+in_Table+\";\")\n",
    "    print(\"Your query :- \",sql)\n",
    "    print(\"-------------------------------------------------------------------------------------------\")\n",
    "    dat=a.read_sql_query(sql,conn)\n",
    "    print(dat)\n",
    "    print(\"-------------------------------------------------------------------------------------------\")\n",
    "def t3(Table):\n",
    "    import pandas.io.sql as a\n",
    "    print(\"-------------------------------------------------------------------------------------------\")\n",
    "    sql=(\"Select  * from public.\"+Table+\";\")\n",
    "    print(\"Your query :- \",sql)\n",
    "    print(\"-------------------------------------------------------------------------------------------\")\n",
    "    dat=a.read_sql_query(sql,conn)\n",
    "    print(dat)\n",
    "    print(\"-------------------------------------------------------------------------------------------\")\n",
    "    print(\"Please don't change the previous inputs\")\n",
    "    widgets.interact(Distinct_count,Dist_column=dat.columns,in_Table=Table)\n",
    "widgets.interact(t3,Table=t)"
   ]
  },
  {
   "cell_type": "markdown",
   "id": "24fbd085",
   "metadata": {},
   "source": [
    "## TYPER OF OPERATOR USING WHERE ,BETWEEN AND IN"
   ]
  },
  {
   "cell_type": "markdown",
   "id": "51c6e30f",
   "metadata": {},
   "source": [
    "<!-- operators  \n",
    "   = value\n",
    "   < value\n",
    "   > value\n",
    "   <= value\n",
    "   >= value\n",
    "   <> value\n",
    "   != value -->"
   ]
  },
  {
   "cell_type": "code",
   "execution_count": 27,
   "id": "460f788b",
   "metadata": {
    "scrolled": true
   },
   "outputs": [
    {
     "data": {
      "application/vnd.jupyter.widget-view+json": {
       "model_id": "7ae9c84ea3074974b4d71304b4b224cf",
       "version_major": 2,
       "version_minor": 0
      },
      "text/plain": [
       "interactive(children=(Dropdown(description='Table', options=('customers', 'sales', 'vendors'), value='customer…"
      ]
     },
     "metadata": {},
     "output_type": "display_data"
    },
    {
     "data": {
      "text/plain": [
       "<function __main__.t100(Table)>"
      ]
     },
     "execution_count": 27,
     "metadata": {},
     "output_type": "execute_result"
    }
   ],
   "source": [
    "import pandas.io.sql as d\n",
    "sql=(\"SELECT table_name FROM information_schema.tables WHERE table_schema = 'public' ORDER BY table_name;\")\n",
    "dat=d.read_sql_query(sql,conn,index_col='table_name')\n",
    "t=list(dat.index)\n",
    "def c2(Column,Operator,Op_data,T):\n",
    "    import pandas.io.sql as m\n",
    "    print(\"-------------------------------------------------------------------------------------------\")\n",
    "    sql=(\"Select * from public.\"+T+\" where \"+str(Column)+\" \"+str(Operator)+\" '\"+str(Op_data)+\"';\")\n",
    "    print(\"Your Final query :- \",sql)\n",
    "    print(\"-------------------------------------------------------------------------------------------\")\n",
    "    dat=m.read_sql_query(sql,conn)\n",
    "    print(dat)\n",
    "    print(\"-------------------------------------------------------------------------------------------\")\n",
    "def c(Column1,In_Table):\n",
    "    import pandas.io.sql as a\n",
    "    sql=(\"Select distinct(\"+Column1+\") from public.\"+In_Table+\";\")\n",
    "    dat=a.read_sql_query(sql,conn,index_col=Column1)\n",
    "    t=dat.index\n",
    "    print(\"-------------------------------------------------------------------------------------------\")\n",
    "    print(\"Please don't change the previous inputs\")\n",
    "    widgets.interact(c2,Column=Column1,Operator=['<','>','='],Op_data=t,T=In_Table)\n",
    "    \n",
    "\n",
    "def t100(Table):\n",
    "    import pandas.io.sql as a\n",
    "    print(\"-------------------------------------------------------------------------------------------\")\n",
    "    sql=(\"Select  * from public.\"+Table+\";\")\n",
    "    print(\"Your query :- \",sql)\n",
    "    print(\"-------------------------------------------------------------------------------------------\")\n",
    "    dat=a.read_sql_query(sql,conn)\n",
    "    print(dat)\n",
    "    print(\"-------------------------------------------------------------------------------------------\")\n",
    "    print(\"Please don't change the previous inputs\")\n",
    "    widgets.interact(c,Column1 =dat.columns,In_Table=Table,)\n",
    "widgets.interact(t100,Table=t)"
   ]
  },
  {
   "cell_type": "markdown",
   "id": "fbff2bb2",
   "metadata": {},
   "source": [
    "### Between"
   ]
  },
  {
   "cell_type": "code",
   "execution_count": 28,
   "id": "a319a890",
   "metadata": {},
   "outputs": [
    {
     "data": {
      "application/vnd.jupyter.widget-view+json": {
       "model_id": "2941a267d8824ff4bb6b45030d6d2078",
       "version_major": 2,
       "version_minor": 0
      },
      "text/plain": [
       "interactive(children=(Dropdown(description='Table', options=('customers', 'sales', 'vendors'), value='customer…"
      ]
     },
     "metadata": {},
     "output_type": "display_data"
    },
    {
     "data": {
      "text/plain": [
       "<function __main__.t9(Table)>"
      ]
     },
     "execution_count": 28,
     "metadata": {},
     "output_type": "execute_result"
    }
   ],
   "source": [
    "import pandas.io.sql as d\n",
    "sql=(\"SELECT table_name FROM information_schema.tables WHERE table_schema = 'public' ORDER BY table_name;\")\n",
    "dat=d.read_sql_query(sql,conn,index_col='table_name')\n",
    "t=list(dat.index)\n",
    "def c2(Column,Op_data1,Op_data2,T):\n",
    "    import pandas.io.sql as m\n",
    "    print(\"-------------------------------------------------------------------------------------------\")\n",
    "    sql=(\"Select * from public.\"+T+\" where \"+str(Column)+\" between '\"+str(Op_data1)+\"' and '\"+str(Op_data2)+\"';\")\n",
    "    print(\"Your Final query :- \",sql)\n",
    "    print(\"-------------------------------------------------------------------------------------------\")\n",
    "    dat=m.read_sql_query(sql,conn)\n",
    "    print(dat)\n",
    "    print(\"-------------------------------------------------------------------------------------------\")\n",
    "def c(Column1,In_Table):\n",
    "    import pandas.io.sql as a\n",
    "    sql=(\"Select distinct(\"+Column1+\") from public.\"+In_Table+\";\")\n",
    "    dat=a.read_sql_query(sql,conn,index_col=Column1)\n",
    "    t=dat.index\n",
    "    import pandas.io.sql as b\n",
    "    s=(\"Select distinct(\"+Column1+\") from public.\"+In_Table+\";\")\n",
    "    d=b.read_sql_query(s,conn,index_col=Column1)\n",
    "    l=d.index\n",
    "    print(\"-------------------------------------------------------------------------------------------\")\n",
    "    print(\"Please don't change the previous inputs\")\n",
    "    widgets.interact(c2,Column=Column1,Op_data1=t,Op_data2=l,T=In_Table)\n",
    "    \n",
    "\n",
    "def t9(Table):\n",
    "    import pandas.io.sql as a\n",
    "    print(\"-------------------------------------------------------------------------------------------\")\n",
    "    sql=(\"Select  * from public.\"+Table+\";\")\n",
    "    print(\"Your query :- \",sql)\n",
    "    print(\"-------------------------------------------------------------------------------------------\")\n",
    "    dat=a.read_sql_query(sql,conn)\n",
    "    print(dat)\n",
    "    print(\"-------------------------------------------------------------------------------------------\")\n",
    "    print(\"Please don't change the previous inputs\")\n",
    "    widgets.interact(c,Column1 =dat.columns,In_Table=Table,)\n",
    "widgets.interact(t9,Table=t)"
   ]
  },
  {
   "cell_type": "markdown",
   "id": "7cbf10a3",
   "metadata": {},
   "source": [
    "### IN"
   ]
  },
  {
   "cell_type": "code",
   "execution_count": 29,
   "id": "e3617286",
   "metadata": {},
   "outputs": [
    {
     "ename": "KeyboardInterrupt",
     "evalue": "Interrupted by user",
     "output_type": "error",
     "traceback": [
      "\u001b[1;31m---------------------------------------------------------------------------\u001b[0m",
      "\u001b[1;31mKeyboardInterrupt\u001b[0m                         Traceback (most recent call last)",
      "\u001b[1;32m<ipython-input-29-a86d09db6543>\u001b[0m in \u001b[0;36m<module>\u001b[1;34m\u001b[0m\n\u001b[0;32m      1\u001b[0m \u001b[1;32mimport\u001b[0m \u001b[0mpandas\u001b[0m\u001b[1;33m.\u001b[0m\u001b[0mio\u001b[0m\u001b[1;33m.\u001b[0m\u001b[0msql\u001b[0m \u001b[1;32mas\u001b[0m \u001b[0mc\u001b[0m\u001b[1;33m\u001b[0m\u001b[1;33m\u001b[0m\u001b[0m\n\u001b[0;32m      2\u001b[0m \u001b[1;33m\u001b[0m\u001b[0m\n\u001b[1;32m----> 3\u001b[1;33m \u001b[0mt\u001b[0m\u001b[1;33m=\u001b[0m\u001b[0minput\u001b[0m\u001b[1;33m(\u001b[0m\u001b[1;34m\"select table \"\u001b[0m\u001b[1;33m)\u001b[0m\u001b[1;33m\u001b[0m\u001b[1;33m\u001b[0m\u001b[0m\n\u001b[0m\u001b[0;32m      4\u001b[0m \u001b[0mprint\u001b[0m\u001b[1;33m(\u001b[0m\u001b[1;34m\"-------------------------------------------------------------------------------------------\"\u001b[0m\u001b[1;33m)\u001b[0m\u001b[1;33m\u001b[0m\u001b[1;33m\u001b[0m\u001b[0m\n\u001b[0;32m      5\u001b[0m \u001b[0msql\u001b[0m\u001b[1;33m=\u001b[0m\u001b[1;33m(\u001b[0m\u001b[1;34m\"Select * from public.\"\u001b[0m\u001b[1;33m+\u001b[0m\u001b[0mstr\u001b[0m\u001b[1;33m(\u001b[0m\u001b[0mt\u001b[0m\u001b[1;33m)\u001b[0m\u001b[1;33m+\u001b[0m\u001b[1;34m\" limit 1;\"\u001b[0m\u001b[1;33m)\u001b[0m\u001b[1;33m\u001b[0m\u001b[1;33m\u001b[0m\u001b[0m\n",
      "\u001b[1;32m~\\anaconda3\\lib\\site-packages\\ipykernel\\kernelbase.py\u001b[0m in \u001b[0;36mraw_input\u001b[1;34m(self, prompt)\u001b[0m\n\u001b[0;32m    858\u001b[0m                 \u001b[1;34m\"raw_input was called, but this frontend does not support input requests.\"\u001b[0m\u001b[1;33m\u001b[0m\u001b[1;33m\u001b[0m\u001b[0m\n\u001b[0;32m    859\u001b[0m             )\n\u001b[1;32m--> 860\u001b[1;33m         return self._input_request(str(prompt),\n\u001b[0m\u001b[0;32m    861\u001b[0m             \u001b[0mself\u001b[0m\u001b[1;33m.\u001b[0m\u001b[0m_parent_ident\u001b[0m\u001b[1;33m,\u001b[0m\u001b[1;33m\u001b[0m\u001b[1;33m\u001b[0m\u001b[0m\n\u001b[0;32m    862\u001b[0m             \u001b[0mself\u001b[0m\u001b[1;33m.\u001b[0m\u001b[0m_parent_header\u001b[0m\u001b[1;33m,\u001b[0m\u001b[1;33m\u001b[0m\u001b[1;33m\u001b[0m\u001b[0m\n",
      "\u001b[1;32m~\\anaconda3\\lib\\site-packages\\ipykernel\\kernelbase.py\u001b[0m in \u001b[0;36m_input_request\u001b[1;34m(self, prompt, ident, parent, password)\u001b[0m\n\u001b[0;32m    902\u001b[0m             \u001b[1;32mexcept\u001b[0m \u001b[0mKeyboardInterrupt\u001b[0m\u001b[1;33m:\u001b[0m\u001b[1;33m\u001b[0m\u001b[1;33m\u001b[0m\u001b[0m\n\u001b[0;32m    903\u001b[0m                 \u001b[1;31m# re-raise KeyboardInterrupt, to truncate traceback\u001b[0m\u001b[1;33m\u001b[0m\u001b[1;33m\u001b[0m\u001b[1;33m\u001b[0m\u001b[0m\n\u001b[1;32m--> 904\u001b[1;33m                 \u001b[1;32mraise\u001b[0m \u001b[0mKeyboardInterrupt\u001b[0m\u001b[1;33m(\u001b[0m\u001b[1;34m\"Interrupted by user\"\u001b[0m\u001b[1;33m)\u001b[0m \u001b[1;32mfrom\u001b[0m \u001b[1;32mNone\u001b[0m\u001b[1;33m\u001b[0m\u001b[1;33m\u001b[0m\u001b[0m\n\u001b[0m\u001b[0;32m    905\u001b[0m             \u001b[1;32mexcept\u001b[0m \u001b[0mException\u001b[0m \u001b[1;32mas\u001b[0m \u001b[0me\u001b[0m\u001b[1;33m:\u001b[0m\u001b[1;33m\u001b[0m\u001b[1;33m\u001b[0m\u001b[0m\n\u001b[0;32m    906\u001b[0m                 \u001b[0mself\u001b[0m\u001b[1;33m.\u001b[0m\u001b[0mlog\u001b[0m\u001b[1;33m.\u001b[0m\u001b[0mwarning\u001b[0m\u001b[1;33m(\u001b[0m\u001b[1;34m\"Invalid Message:\"\u001b[0m\u001b[1;33m,\u001b[0m \u001b[0mexc_info\u001b[0m\u001b[1;33m=\u001b[0m\u001b[1;32mTrue\u001b[0m\u001b[1;33m)\u001b[0m\u001b[1;33m\u001b[0m\u001b[1;33m\u001b[0m\u001b[0m\n",
      "\u001b[1;31mKeyboardInterrupt\u001b[0m: Interrupted by user"
     ]
    }
   ],
   "source": [
    "import pandas.io.sql as c\n",
    "\n",
    "t=input(\"select table \")\n",
    "print(\"-------------------------------------------------------------------------------------------\")\n",
    "sql=(\"Select * from public.\"+str(t)+\" limit 1;\")\n",
    "dat=c.read_sql_query(sql,conn)\n",
    "print(dat)\n",
    "print(\"-------------------------------------------------------------------------------------------\")\n",
    "co=input(\"enter the column \")\n",
    "print(\"Enter the values like value1,value2,.....\")\n",
    "i=input(\"enter the in values \")\n",
    "print(\"-------------------------------------------------------------------------------------------\")\n",
    "sql=(\"Select * from public.\"+str(t)+\" where (\"+co+\") in (\"+i+\");\")\n",
    "dat=c.read_sql_query(sql,conn)\n",
    "print(dat)\n",
    "print(\"-------------------------------------------------------------------------------------------\")"
   ]
  },
  {
   "cell_type": "markdown",
   "id": "508eeeaa",
   "metadata": {},
   "source": [
    "### LIKE"
   ]
  },
  {
   "cell_type": "code",
   "execution_count": null,
   "id": "1ee42cb2",
   "metadata": {},
   "outputs": [],
   "source": [
    "import pandas.io.sql as c\n",
    "\n",
    "t=input(\"select table \")\n",
    "print(\"-------------------------------------------------------------------------------------------\")\n",
    "sql=(\"Select * from public.\"+str(t)+\" limit 1;\")\n",
    "dat=c.read_sql_query(sql,conn)\n",
    "print(dat.columns)\n",
    "print(\"-------------------------------------------------------------------------------------------\")\n",
    "co=input(\"enter the column \")\n",
    "print(\"Enter the values like '%A'\")\n",
    "i=input(\"enter the in value \")\n",
    "print(\"-------------------------------------------------------------------------------------------\")\n",
    "sql=(\"Select * from public.\"+str(t)+\" where (\"+co+\") like (\"+i+\");\")\n",
    "dat=c.read_sql_query(sql,conn)\n",
    "print(dat)\n",
    "print(\"-------------------------------------------------------------------------------------------\")"
   ]
  },
  {
   "cell_type": "markdown",
   "id": "a84a711c",
   "metadata": {},
   "source": [
    "## Aggregate functions "
   ]
  },
  {
   "cell_type": "code",
   "execution_count": 9,
   "id": "9068f174",
   "metadata": {},
   "outputs": [
    {
     "data": {
      "application/vnd.jupyter.widget-view+json": {
       "model_id": "0a90fd359ae54499b2d88f35277b804b",
       "version_major": 2,
       "version_minor": 0
      },
      "text/plain": [
       "interactive(children=(Dropdown(description='Table', options=('customers', 'sales', 'vendors'), value='customer…"
      ]
     },
     "metadata": {},
     "output_type": "display_data"
    },
    {
     "data": {
      "text/plain": [
       "<function __main__.t9(Table)>"
      ]
     },
     "execution_count": 9,
     "metadata": {},
     "output_type": "execute_result"
    }
   ],
   "source": [
    "import pandas.io.sql as d\n",
    "sql=(\"SELECT table_name FROM information_schema.tables WHERE table_schema = 'public' ORDER BY table_name;\")\n",
    "dat=d.read_sql_query(sql,conn,index_col='table_name')\n",
    "t=list(dat.index)\n",
    "def c2(Column,ag,T):\n",
    "    import pandas.io.sql as m\n",
    "    print(\"-------------------------------------------------------------------------------------------\")\n",
    "    sql=(\"Select \"+ag+\"(\"+Column+\") from public.\"+T+\";\")\n",
    "    print(\"Your Final query :- \",sql)\n",
    "    print(\"-------------------------------------------------------------------------------------------\")\n",
    "    dat=m.read_sql_query(sql,conn)\n",
    "    print(dat)\n",
    "    print(\"-------------------------------------------------------------------------------------------\")\n",
    "def c(Column1,In_Table):\n",
    "    import pandas.io.sql as a\n",
    "    sql=(\"Select distinct(\"+Column1+\") from public.\"+In_Table+\";\")\n",
    "    dat=a.read_sql_query(sql,conn,index_col=Column1)\n",
    "    t=dat.index\n",
    "    import pandas.io.sql as b\n",
    "    s=(\"Select distinct(\"+Column1+\") from public.\"+In_Table+\";\")\n",
    "    d=b.read_sql_query(s,conn,index_col=Column1)\n",
    "    l=d.index\n",
    "    print(\"-------------------------------------------------------------------------------------------\")\n",
    "    print(\"Please don't change the previous inputs\")\n",
    "    widgets.interact(c2,Column=Column1,ag=['sum','Avg','max','min','count'],T=In_Table)\n",
    "    \n",
    "\n",
    "def t9(Table):\n",
    "    import pandas.io.sql as a\n",
    "    print(\"-------------------------------------------------------------------------------------------\")\n",
    "    sql=(\"Select  * from public.\"+Table+\";\")\n",
    "    print(\"Your query :- \",sql)\n",
    "    print(\"-------------------------------------------------------------------------------------------\")\n",
    "    dat=a.read_sql_query(sql,conn)\n",
    "    print(dat)\n",
    "    print(\"-------------------------------------------------------------------------------------------\")\n",
    "    print(\"Please don't change the previous inputs\")\n",
    "    widgets.interact(c,Column1 =dat.columns,In_Table=Table,)\n",
    "widgets.interact(t9,Table=t)"
   ]
  },
  {
   "cell_type": "markdown",
   "id": "00e23c7a",
   "metadata": {},
   "source": [
    "### Group by having and aggregate"
   ]
  },
  {
   "cell_type": "code",
   "execution_count": 10,
   "id": "66201140",
   "metadata": {},
   "outputs": [
    {
     "data": {
      "application/vnd.jupyter.widget-view+json": {
       "model_id": "9b978606dc3f4545874809010d2fb8ea",
       "version_major": 2,
       "version_minor": 0
      },
      "text/plain": [
       "interactive(children=(Dropdown(description='Table', options=('customers', 'sales', 'vendors'), value='customer…"
      ]
     },
     "metadata": {},
     "output_type": "display_data"
    },
    {
     "data": {
      "text/plain": [
       "<function __main__.t9(Table)>"
      ]
     },
     "execution_count": 10,
     "metadata": {},
     "output_type": "execute_result"
    }
   ],
   "source": [
    "import pandas.io.sql as d\n",
    "sql=(\"SELECT table_name FROM information_schema.tables WHERE table_schema = 'public' ORDER BY table_name;\")\n",
    "dat=d.read_sql_query(sql,conn,index_col='table_name')\n",
    "t=list(dat.index)\n",
    "def c2(Column,Aggregate,group_by,T):\n",
    "    import pandas.io.sql as m\n",
    "    print(\"-------------------------------------------------------------------------------------------\")\n",
    "    sql=(\"Select \"+group_by+\",\"+Aggregate+\"(\"+Column+\") from public.\"+T+\" group by (\"+group_by+\");\")\n",
    "    print(\"Your Final query :- \",sql)\n",
    "    print(\"-------------------------------------------------------------------------------------------\")\n",
    "    dat=m.read_sql_query(sql,conn)\n",
    "    print(dat)\n",
    "    print(\"-------------------------------------------------------------------------------------------\")\n",
    "def c(Column1,Group_by,In_Table):\n",
    "    import pandas.io.sql as a\n",
    "    sql=(\"Select distinct(\"+Column1+\") from public.\"+In_Table+\";\")\n",
    "    dat=a.read_sql_query(sql,conn,index_col=Column1)\n",
    "    t=dat.index\n",
    "    import pandas.io.sql as b\n",
    "    s=(\"Select distinct(\"+Column1+\") from public.\"+In_Table+\";\")\n",
    "    d=b.read_sql_query(s,conn,index_col=Column1)\n",
    "    l=d.index\n",
    "    print(\"-------------------------------------------------------------------------------------------\")\n",
    "    print(\"Please don't change the previous inputs\")\n",
    "    widgets.interact(c2,Column=Column1,Aggregate=['sum','Avg','max','min','count'],group_by=Group_by,T=In_Table)\n",
    "    \n",
    "\n",
    "def t9(Table):\n",
    "    import pandas.io.sql as a\n",
    "    print(\"-------------------------------------------------------------------------------------------\")\n",
    "    sql=(\"Select  * from public.\"+Table+\";\")\n",
    "    print(\"Your query :- \",sql)\n",
    "    print(\"-------------------------------------------------------------------------------------------\")\n",
    "    dat=a.read_sql_query(sql,conn)\n",
    "    print(dat)\n",
    "    print(\"-------------------------------------------------------------------------------------------\")\n",
    "    print(\"Please don't change the previous inputs\")\n",
    "    widgets.interact(c,Column1 =dat.columns,Group_by =dat.columns,In_Table=Table,)\n",
    "widgets.interact(t9,Table=t)"
   ]
  },
  {
   "cell_type": "markdown",
   "id": "4cdc4839",
   "metadata": {},
   "source": [
    "# JOINS"
   ]
  },
  {
   "cell_type": "code",
   "execution_count": 11,
   "id": "84e9b903",
   "metadata": {},
   "outputs": [
    {
     "name": "stdout",
     "output_type": "stream",
     "text": [
      "Select the tables in which you want to use the joins \n",
      "Make sure that your both table different other wise query not work\n"
     ]
    },
    {
     "data": {
      "application/vnd.jupyter.widget-view+json": {
       "model_id": "95e730b82bd04324bbb9f4b1e26b14d5",
       "version_major": 2,
       "version_minor": 0
      },
      "text/plain": [
       "interactive(children=(Dropdown(description='Table1', options=('customers', 'sales', 'vendors'), value='custome…"
      ]
     },
     "metadata": {},
     "output_type": "display_data"
    },
    {
     "data": {
      "text/plain": [
       "<function __main__.t9(Table1, Table2)>"
      ]
     },
     "execution_count": 11,
     "metadata": {},
     "output_type": "execute_result"
    }
   ],
   "source": [
    "import pandas.io.sql as d\n",
    "sql=(\"SELECT table_name FROM information_schema.tables WHERE table_schema = 'public' ORDER BY table_name;\")\n",
    "dat=d.read_sql_query(sql,conn,index_col='table_name')\n",
    "t=list(dat.index)\n",
    "def c(Column1,Column2,In_Table1,In_Table2,join):\n",
    "    t1=In_Table1[0:1]\n",
    "    t2=In_Table2[0:1]\n",
    "    if(join=='cross'):\n",
    "        import pandas.io.sql as d\n",
    "        print(\"-------------------------------------------------------------------------------------------\")\n",
    "        sq=(\"Select * from public.\"+In_Table1+\" as \"+t1+\" \"+join+\" join public.\"+In_Table2+\" as \"+t2+\";\")\n",
    "        print(\"Your query :- \",sq)\n",
    "        print(\"-------------------------------------------------------------------------------------------\")\n",
    "        dat=d.read_sql_query(sq,conn)\n",
    "        print(dat)\n",
    "        print(\"-------------------------------------------------------------------------------------------\")\n",
    "    else:    \n",
    "        import pandas.io.sql as d\n",
    "        print(\"-------------------------------------------------------------------------------------------\")\n",
    "        sq=(\"Select * from public.\"+In_Table1+\" as \"+t1+\" \"+join+\" join public.\"+In_Table2+\" as \"+t2+\" on \"+t1+\".\"+Column1+\"=\"+t2+\".\"+Column2+\";\")\n",
    "        print(\"Your query :- \",sq)\n",
    "        print(\"-------------------------------------------------------------------------------------------\")\n",
    "        dat=d.read_sql_query(sq,conn)\n",
    "        print(dat)\n",
    "        print(\"-------------------------------------------------------------------------------------------\")\n",
    "\n",
    "def t9(Table1,Table2):\n",
    "    import pandas.io.sql as a\n",
    "    import pandas.io.sql as b\n",
    "    print(\"-------------------------------------------------------------------------------------------\")\n",
    "    sql=(\"Select  * from public.\"+Table1+\";\")\n",
    "    print(\"Your query :- \",sql)\n",
    "    print(\"-------------------------------------------------------------------------------------------\")\n",
    "    dat1=a.read_sql_query(sql,conn)\n",
    "    print(dat1)\n",
    "    print(\"-------------------------------------------------------------------------------------------\")\n",
    "    sql=(\"Select  * from public.\"+Table2+\";\")\n",
    "    print(\"Your query :- \",sql)\n",
    "    print(\"-------------------------------------------------------------------------------------------\")\n",
    "    dat2=b.read_sql_query(sql,conn)\n",
    "    print(dat2)\n",
    "    print(\"-------------------------------------------------------------------------------------------\")\n",
    "    print(\"Please don't change the previous inputs\")\n",
    "    print('Now choice the similar columns from both columns and choice the join')\n",
    "    widgets.interact(c,Column1=dat1.columns,Column2=dat2.columns,In_Table1=Table1,In_Table2=Table2,join=['left','inner','right','cross'])\n",
    "print('Select the tables in which you want to use the joins ')\n",
    "print('Make sure that your both table different other wise query not work')\n",
    "widgets.interact(t9,Table1=t,Table2=t)"
   ]
  },
  {
   "cell_type": "markdown",
   "id": "10501f48",
   "metadata": {},
   "source": [
    "# Union & Union all"
   ]
  },
  {
   "cell_type": "code",
   "execution_count": 13,
   "id": "5d43013e",
   "metadata": {
    "scrolled": true
   },
   "outputs": [
    {
     "name": "stdout",
     "output_type": "stream",
     "text": [
      "Select the tables in which you want to use the joins \n",
      "Make sure that your both table different other wise query not work\n"
     ]
    },
    {
     "data": {
      "application/vnd.jupyter.widget-view+json": {
       "model_id": "e44e2dfc44a746af9c8fe0b3dc6ba3c6",
       "version_major": 2,
       "version_minor": 0
      },
      "text/plain": [
       "interactive(children=(Dropdown(description='Table1', options=('customers', 'sales', 'vendors'), value='custome…"
      ]
     },
     "metadata": {},
     "output_type": "display_data"
    },
    {
     "data": {
      "text/plain": [
       "<function __main__.t9(Table1, Table2)>"
      ]
     },
     "execution_count": 13,
     "metadata": {},
     "output_type": "execute_result"
    }
   ],
   "source": [
    "import pandas.io.sql as d\n",
    "sql=(\"SELECT table_name FROM information_schema.tables WHERE table_schema = 'public' ORDER BY table_name;\")\n",
    "dat=d.read_sql_query(sql,conn,index_col='table_name')\n",
    "t=list(dat.index)\n",
    "\n",
    "def c(Column1,Column2,In_Table1,In_Table2,union):   \n",
    "    import pandas.io.sql as d\n",
    "    print(\"-------------------------------------------------------------------------------------------\")\n",
    "    sq=(\"Select \"+Column1+\" from public.\"+In_Table1+\" \"+union+\" Select \"+Column2+\" from public.\"+In_Table2+\";\")\n",
    "    print(\"Your query :- \",sq)\n",
    "    print(\"-------------------------------------------------------------------------------------------\")\n",
    "    dat=d.read_sql_query(sq,conn)\n",
    "    print(dat)\n",
    "    print(\"-------------------------------------------------------------------------------------------\")\n",
    "\n",
    "def t9(Table1,Table2):\n",
    "    import pandas.io.sql as a\n",
    "    import pandas.io.sql as b\n",
    "    print(\"-------------------------------------------------------------------------------------------\")\n",
    "    sql=(\"Select  * from public.\"+Table1+\";\")\n",
    "    print(\"Your query :- \",sql)\n",
    "    print(\"-------------------------------------------------------------------------------------------\")\n",
    "    dat1=a.read_sql_query(sql,conn)\n",
    "    print(dat1)\n",
    "    print(\"-------------------------------------------------------------------------------------------\")\n",
    "    sql=(\"Select  * from public.\"+Table2+\";\")\n",
    "    print(\"Your query :- \",sql)\n",
    "    print(\"-------------------------------------------------------------------------------------------\")\n",
    "    dat2=b.read_sql_query(sql,conn)\n",
    "    print(dat2)\n",
    "    print(\"-------------------------------------------------------------------------------------------\")\n",
    "    print(\"Please don't change the previous inputs\")\n",
    "    print('Now choice the columns from both tables and make sure both column should be same type')\n",
    "    print('like column1 type=string and column2=string')\n",
    "    widgets.interact(c,Column1=dat1.columns,Column2=dat2.columns,In_Table1=Table1,In_Table2=Table2,union=['union','union all'])\n",
    "print('Select the tables in which you want to use the joins ')\n",
    "print('Make sure that your both table different other wise query not work')\n",
    "widgets.interact(t9,Table1=t,Table2=t)"
   ]
  },
  {
   "cell_type": "markdown",
   "id": "a043dc29",
   "metadata": {},
   "source": [
    "# OVER + ORDER BY for Aggregations"
   ]
  },
  {
   "cell_type": "code",
   "execution_count": 14,
   "id": "42488d3b",
   "metadata": {
    "scrolled": true
   },
   "outputs": [
    {
     "name": "stdout",
     "output_type": "stream",
     "text": [
      "Select the tables in which you want to use the over and order by\n"
     ]
    },
    {
     "data": {
      "application/vnd.jupyter.widget-view+json": {
       "model_id": "5cd08fc31a4f47ee8eb0544130a4e09a",
       "version_major": 2,
       "version_minor": 0
      },
      "text/plain": [
       "interactive(children=(Dropdown(description='Table', options=('customers', 'sales', 'vendors'), value='customer…"
      ]
     },
     "metadata": {},
     "output_type": "display_data"
    },
    {
     "data": {
      "text/plain": [
       "<function __main__.t9(Table)>"
      ]
     },
     "execution_count": 14,
     "metadata": {},
     "output_type": "execute_result"
    }
   ],
   "source": [
    "import pandas.io.sql as d\n",
    "sql=(\"SELECT table_name FROM information_schema.tables WHERE table_schema = 'public' ORDER BY table_name;\")\n",
    "dat=d.read_sql_query(sql,conn,index_col='table_name')\n",
    "t=list(dat.index)\n",
    "\n",
    "def c(Column,In_Table,ag,ag_on,order_by):   \n",
    "    import pandas.io.sql as d\n",
    "    print(\"-------------------------------------------------------------------------------------------\")\n",
    "    sq=(\"Select \"+Column+\",\"+ag+\"(\"+ag_on+\") over (order by(\"+order_by+\")) from public.\"+In_Table+\";\")\n",
    "    print(\"Your query :- \",sq)\n",
    "    print(\"-------------------------------------------------------------------------------------------\")\n",
    "    dat=d.read_sql_query(sq,conn)\n",
    "    print(dat)\n",
    "    print(\"-------------------------------------------------------------------------------------------\")\n",
    "\n",
    "def t9(Table):\n",
    "    import pandas.io.sql as a\n",
    "    import pandas.io.sql as b\n",
    "    print(\"-------------------------------------------------------------------------------------------\")\n",
    "    sql=(\"Select  * from public.\"+Table+\";\")\n",
    "    print(\"Your query :- \",sql)\n",
    "    print(\"-------------------------------------------------------------------------------------------\")\n",
    "    dat=a.read_sql_query(sql,conn)\n",
    "    print(dat)\n",
    "    print(\"Please don't change the previous inputs\")\n",
    "    widgets.interact(c,Column=dat.columns,In_Table=Table,ag=['sum','max','min','avg','count'],ag_on=dat.columns,order_by=dat.columns)\n",
    "print('Select the tables in which you want to use the over and order by')\n",
    "widgets.interact(t9,Table=t)"
   ]
  },
  {
   "cell_type": "markdown",
   "id": "f787d42e",
   "metadata": {},
   "source": [
    "# Functions"
   ]
  },
  {
   "cell_type": "markdown",
   "id": "b036d83b",
   "metadata": {},
   "source": [
    "## Length"
   ]
  },
  {
   "cell_type": "code",
   "execution_count": 15,
   "id": "823f5c0a",
   "metadata": {
    "scrolled": true
   },
   "outputs": [
    {
     "name": "stdout",
     "output_type": "stream",
     "text": [
      "Select the tables in which you want to use the length function\n"
     ]
    },
    {
     "data": {
      "application/vnd.jupyter.widget-view+json": {
       "model_id": "1b01c54311fa4eaebcd21ebe42734368",
       "version_major": 2,
       "version_minor": 0
      },
      "text/plain": [
       "interactive(children=(Dropdown(description='Table', options=('customers', 'sales', 'vendors'), value='customer…"
      ]
     },
     "metadata": {},
     "output_type": "display_data"
    },
    {
     "data": {
      "text/plain": [
       "<function __main__.t9(Table)>"
      ]
     },
     "execution_count": 15,
     "metadata": {},
     "output_type": "execute_result"
    }
   ],
   "source": [
    "import pandas.io.sql as d\n",
    "sql=(\"SELECT table_name FROM information_schema.tables WHERE table_schema = 'public' ORDER BY table_name;\")\n",
    "dat=d.read_sql_query(sql,conn,index_col='table_name')\n",
    "t=list(dat.index)\n",
    "# sq=(\"Select \"+c1+\",length(\"+c+\")from public.\"+str(t)+\";\")\n",
    "def c(Column,In_Table,length_of):   \n",
    "    import pandas.io.sql as d\n",
    "    print(\"-------------------------------------------------------------------------------------------\")\n",
    "    sq=(\"Select \"+Column+\",length(\"+length_of+\") from public.\"+In_Table+\";\")\n",
    "    print(\"Your query :- \",sq)\n",
    "    print(\"-------------------------------------------------------------------------------------------\")\n",
    "    dat=d.read_sql_query(sq,conn)\n",
    "    print(dat)\n",
    "    print(\"-------------------------------------------------------------------------------------------\")\n",
    "\n",
    "def t9(Table):\n",
    "    import pandas.io.sql as a\n",
    "    import pandas.io.sql as b\n",
    "    print(\"-------------------------------------------------------------------------------------------\")\n",
    "    sql=(\"Select  * from public.\"+Table+\";\")\n",
    "    print(\"Your query :- \",sql)\n",
    "    print(\"-------------------------------------------------------------------------------------------\")\n",
    "    dat=a.read_sql_query(sql,conn)\n",
    "    print(dat)\n",
    "    print(\"Please don't change the previous inputs\")\n",
    "    print('Now choice the columns on which you want to use length function')\n",
    "    print(\"Make sure your column should be string type\")\n",
    "    widgets.interact(c,Column=dat.columns,In_Table=Table,length_of=dat.columns)\n",
    "print('Select the tables in which you want to use the length function')\n",
    "widgets.interact(t9,Table=t)"
   ]
  },
  {
   "cell_type": "markdown",
   "id": "0c415e26",
   "metadata": {},
   "source": [
    "# Substring"
   ]
  },
  {
   "cell_type": "code",
   "execution_count": 19,
   "id": "81aee490",
   "metadata": {},
   "outputs": [
    {
     "name": "stdout",
     "output_type": "stream",
     "text": [
      "Select the tables in which you want to use the substring function\n"
     ]
    },
    {
     "data": {
      "application/vnd.jupyter.widget-view+json": {
       "model_id": "e5b72ca2562841a393d760b9a959876a",
       "version_major": 2,
       "version_minor": 0
      },
      "text/plain": [
       "interactive(children=(Dropdown(description='Table', options=('customers', 'sales', 'vendors'), value='customer…"
      ]
     },
     "metadata": {},
     "output_type": "display_data"
    },
    {
     "data": {
      "text/plain": [
       "<function __main__.t9(Table)>"
      ]
     },
     "execution_count": 19,
     "metadata": {},
     "output_type": "execute_result"
    }
   ],
   "source": [
    "import pandas.io.sql as d\n",
    "sql=(\"SELECT table_name FROM information_schema.tables WHERE table_schema = 'public' ORDER BY table_name;\")\n",
    "dat=d.read_sql_query(sql,conn,index_col='table_name')\n",
    "t=list(dat.index)\n",
    "\n",
    "# sq=(\"Select \"+c1+\",substring(\"+c+\",\"+x+\",\"+y+\")from public.\"+str(t)+\";\")\n",
    "def L(Col,Table,str_o,start,end): \n",
    "        import pandas.io.sql as d\n",
    "        print(\"-------------------------------------------------------------------------------------------\")\n",
    "        sq=(\"Select \"+Col+\",substring(\"+str_o+\",\"+str(start)+\",\"+str(end)+\") from public.\"+Table+\";\")\n",
    "        print(\"Your query :- \",sq)\n",
    "        print(\"-------------------------------------------------------------------------------------------\")\n",
    "        dat=d.read_sql_query(sq,conn)\n",
    "        print(dat)\n",
    "        print(\"-------------------------------------------------------------------------------------------\")\n",
    "def c(Column,In_Table,str_on):  \n",
    "    lst=[]\n",
    "    for i in range(0, len(str_on)):\n",
    "        ele = i\n",
    "        lst.append(ele)\n",
    "    print(\"-------------------------------------------------------------------------------------------\")\n",
    "    print(\"Please dont change the previous input\")\n",
    "    widgets.interact(L,Col=Column,Table=In_Table,str_o=str_on,start=lst,end=lst)\n",
    "    \n",
    "\n",
    "def t9(Table):\n",
    "    import pandas.io.sql as a\n",
    "    import pandas.io.sql as b\n",
    "    print(\"-------------------------------------------------------------------------------------------\")\n",
    "    sql=(\"Select  * from public.\"+Table+\";\")\n",
    "    print(\"Your query :- \",sql)\n",
    "    print(\"-------------------------------------------------------------------------------------------\")\n",
    "    dat=a.read_sql_query(sql,conn)\n",
    "    print(dat)\n",
    "    print(\"-------------------------------------------------------------------------------------------\")\n",
    "    print(\"Please don't change the previous inputs\")\n",
    "    print('Now choice the columns on which you want to use substring function')\n",
    "    print(\"Make sure your column should be string type\")\n",
    "    widgets.interact(c,Column=dat.columns,In_Table=Table,str_on=dat.columns)\n",
    "print('Select the tables in which you want to use the substring function')\n",
    "widgets.interact(t9,Table=t)"
   ]
  },
  {
   "cell_type": "markdown",
   "id": "ef97f7b7",
   "metadata": {},
   "source": [
    "# Cast"
   ]
  },
  {
   "cell_type": "code",
   "execution_count": 20,
   "id": "5c3483f4",
   "metadata": {
    "scrolled": true
   },
   "outputs": [
    {
     "name": "stdout",
     "output_type": "stream",
     "text": [
      "Select the tables in which you want to use the cast function\n"
     ]
    },
    {
     "data": {
      "application/vnd.jupyter.widget-view+json": {
       "model_id": "6d61c47554144708926efd8bfd4825fc",
       "version_major": 2,
       "version_minor": 0
      },
      "text/plain": [
       "interactive(children=(Dropdown(description='Table', options=('customers', 'sales', 'vendors'), value='customer…"
      ]
     },
     "metadata": {},
     "output_type": "display_data"
    },
    {
     "data": {
      "text/plain": [
       "<function __main__.t9(Table)>"
      ]
     },
     "execution_count": 20,
     "metadata": {},
     "output_type": "execute_result"
    }
   ],
   "source": [
    "import pandas.io.sql as d\n",
    "sql=(\"SELECT table_name FROM information_schema.tables WHERE table_schema = 'public' ORDER BY table_name;\")\n",
    "dat=d.read_sql_query(sql,conn,index_col='table_name')\n",
    "t=list(dat.index)\n",
    "\n",
    "# sq=(\"Select \"+c1+\",cast(\"+c+\" as \"+y+\")from public.\"+str(t)+\";\")\n",
    "def L(Col,Table,Type): \n",
    "        import pandas.io.sql as d\n",
    "        print(\"-------------------------------------------------------------------------------------------\")\n",
    "        sq=(\"Select \"+Col+\",cast(\"+Col+\" as \"+Type+\") from public.\"+Table+\";\")\n",
    "        print(\"Your query :- \",sq)\n",
    "        print(\"-------------------------------------------------------------------------------------------\")\n",
    "        dat=d.read_sql_query(sq,conn)\n",
    "        print(dat)\n",
    "        print(\"-------------------------------------------------------------------------------------------\")\n",
    "    \n",
    "\n",
    "def t9(Table):\n",
    "    import pandas.io.sql as a\n",
    "    import pandas.io.sql as b\n",
    "    print(\"-------------------------------------------------------------------------------------------\")\n",
    "    sql=(\"Select  * from public.\"+Table+\";\")\n",
    "    print(\"Your query :- \",sql)\n",
    "    print(\"-------------------------------------------------------------------------------------------\")\n",
    "    dat=a.read_sql_query(sql,conn)\n",
    "    print(dat)\n",
    "    print(\"Please don't change the previous inputs\")\n",
    "    print('Now choice the columns on which you want to use cast function')\n",
    "    print(\"You can ony \")\n",
    "    widgets.interact(L,Col=dat.columns,Table=Table,Type=['char','int','bool','varchar','float8','decimal','timestamptz'])\n",
    "print('Select the tables in which you want to use the cast function')\n",
    "widgets.interact(t9,Table=t)"
   ]
  },
  {
   "cell_type": "markdown",
   "id": "60a4f9f3",
   "metadata": {},
   "source": [
    "# Concat"
   ]
  },
  {
   "cell_type": "code",
   "execution_count": 21,
   "id": "2512d740",
   "metadata": {},
   "outputs": [
    {
     "name": "stdout",
     "output_type": "stream",
     "text": [
      "Select the tables in which you want to use the concat function\n"
     ]
    },
    {
     "data": {
      "application/vnd.jupyter.widget-view+json": {
       "model_id": "d329d88a3b524de6b11e1f6afd678fb0",
       "version_major": 2,
       "version_minor": 0
      },
      "text/plain": [
       "interactive(children=(Dropdown(description='Table', options=('customers', 'sales', 'vendors'), value='customer…"
      ]
     },
     "metadata": {},
     "output_type": "display_data"
    },
    {
     "data": {
      "text/plain": [
       "<function __main__.t9(Table)>"
      ]
     },
     "execution_count": 21,
     "metadata": {},
     "output_type": "execute_result"
    }
   ],
   "source": [
    "import pandas.io.sql as d\n",
    "sql=(\"SELECT table_name FROM information_schema.tables WHERE table_schema = 'public' ORDER BY table_name;\")\n",
    "dat=d.read_sql_query(sql,conn,index_col='table_name')\n",
    "t=list(dat.index)\n",
    "def L(Col,Table,con_with): \n",
    "        import pandas.io.sql as d\n",
    "        print(\"-------------------------------------------------------------------------------------------\")\n",
    "        sq=(\"Select \"+Col+\",\"+con_with+\",concat(\"+Col+\",\"+con_with+\") from public.\"+Table+\";\")\n",
    "        print(\"Your query :- \",sq)\n",
    "        print(\"-------------------------------------------------------------------------------------------\")\n",
    "        dat=d.read_sql_query(sq,conn)\n",
    "        print(dat)\n",
    "        print(\"-------------------------------------------------------------------------------------------\")\n",
    "    \n",
    "\n",
    "def t9(Table):\n",
    "    import pandas.io.sql as a\n",
    "    import pandas.io.sql as b\n",
    "    print(\"-------------------------------------------------------------------------------------------\")\n",
    "    sql=(\"Select  * from public.\"+Table+\";\")\n",
    "    print(\"Your query :- \",sql)\n",
    "    print(\"-------------------------------------------------------------------------------------------\")\n",
    "    dat=a.read_sql_query(sql,conn)\n",
    "    print(dat)\n",
    "    print(\"-------------------------------------------------------------------------------------------\")\n",
    "    print(\"Please don't change the previous inputs\")\n",
    "    print('Now choice the columns on which you want to use concat function')\n",
    "    widgets.interact(L,Col=dat.columns,Table=Table,con_with=dat.columns)\n",
    "print('Select the tables in which you want to use the concat function')\n",
    "widgets.interact(t9,Table=t)"
   ]
  },
  {
   "cell_type": "markdown",
   "id": "91024472",
   "metadata": {},
   "source": [
    "# Date_Function"
   ]
  },
  {
   "cell_type": "code",
   "execution_count": 22,
   "id": "6f19292b",
   "metadata": {
    "scrolled": true
   },
   "outputs": [
    {
     "name": "stdout",
     "output_type": "stream",
     "text": [
      "Select the tables in which you want to use the date function\n"
     ]
    },
    {
     "data": {
      "application/vnd.jupyter.widget-view+json": {
       "model_id": "6d3f84228304427485727338afe69426",
       "version_major": 2,
       "version_minor": 0
      },
      "text/plain": [
       "interactive(children=(Dropdown(description='Table', options=('customers', 'sales', 'vendors'), value='customer…"
      ]
     },
     "metadata": {},
     "output_type": "display_data"
    },
    {
     "data": {
      "text/plain": [
       "<function __main__.t9(Table)>"
      ]
     },
     "execution_count": 22,
     "metadata": {},
     "output_type": "execute_result"
    }
   ],
   "source": [
    "import pandas.io.sql as d\n",
    "sql=(\"SELECT table_name FROM information_schema.tables WHERE table_schema = 'public' ORDER BY table_name;\")\n",
    "dat=d.read_sql_query(sql,conn,index_col='table_name')\n",
    "t=list(dat.index)\n",
    "\n",
    "def L(Col,Table,field): \n",
    "        import pandas.io.sql as d\n",
    "        print(\"-------------------------------------------------------------------------------------------\")\n",
    "        sq=(\"Select \"+Col+\",extract(\"+field+\" from \"+Col+\") from public.\"+Table+\";\")\n",
    "        print(\"Your query :- \",sq)\n",
    "        print(\"-------------------------------------------------------------------------------------------\")\n",
    "        dat=d.read_sql_query(sq,conn)\n",
    "        print(dat)\n",
    "        print(\"-------------------------------------------------------------------------------------------\")\n",
    "    \n",
    "\n",
    "def t9(Table):\n",
    "    import pandas.io.sql as a\n",
    "    import pandas.io.sql as b\n",
    "    print(\"-------------------------------------------------------------------------------------------\")\n",
    "    sql=(\"Select  * from public.\"+Table+\";\")\n",
    "    print(\"Your query :- \",sql)\n",
    "    print(\"-------------------------------------------------------------------------------------------\")\n",
    "    dat=a.read_sql_query(sql,conn)\n",
    "    print(dat)\n",
    "    print(\"-------------------------------------------------------------------------------------------\")\n",
    "    print(\"Please don't change the previous inputs\")\n",
    "    print('ONLY FOR DATES')\n",
    "    widgets.interact(L,Col=dat.columns,Table=Table,field=['year','month','SECOND','TIMEZONE','QUARTER','MILLISECONDS','CENTURY','DAY','DECADE','DOW','DOY','EPOCH','HOUR'])\n",
    "print('Select the tables in which you want to use the date function')\n",
    "widgets.interact(t9,Table=t)"
   ]
  }
 ],
 "metadata": {
  "kernelspec": {
   "display_name": "Python 3",
   "language": "python",
   "name": "python3"
  },
  "language_info": {
   "codemirror_mode": {
    "name": "ipython",
    "version": 3
   },
   "file_extension": ".py",
   "mimetype": "text/x-python",
   "name": "python",
   "nbconvert_exporter": "python",
   "pygments_lexer": "ipython3",
   "version": "3.8.8"
  }
 },
 "nbformat": 4,
 "nbformat_minor": 5
}
